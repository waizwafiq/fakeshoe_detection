{
 "cells": [
  {
   "attachments": {},
   "cell_type": "markdown",
   "metadata": {},
   "source": [
    "# **Brand Detection**"
   ]
  },
  {
   "cell_type": "code",
   "execution_count": 26,
   "metadata": {},
   "outputs": [],
   "source": [
    "import torch\n",
    "from torchvision import datasets, transforms\n",
    "from torch import nn\n",
    "import torch.optim as optim\n",
    "import torch.nn.functional as F\n",
    "\n",
    "# Define the transformation to apply to the images\n",
    "transform = transforms.Compose([\n",
    "    transforms.ToTensor(),\n",
    "    transforms.Normalize((0.5,), (0.5,))\n",
    "])\n",
    "\n",
    "# Load the dataset\n",
    "train_dataset = datasets.ImageFolder(root='./dataset/brands/train/', transform=transform)\n",
    "test_dataset = datasets.ImageFolder(root='./dataset/brands/test/', transform=transform)\n",
    "\n",
    "# Create data loaders to facilitate batch processing\n",
    "train_loader = torch.utils.data.DataLoader(train_dataset, batch_size=8, shuffle=True)\n",
    "test_loader = torch.utils.data.DataLoader(test_dataset, batch_size=8, shuffle=False)\n"
   ]
  },
  {
   "cell_type": "code",
   "execution_count": 32,
   "metadata": {},
   "outputs": [
    {
     "name": "stdout",
     "output_type": "stream",
     "text": [
      "torch.Size([8, 3, 240, 240])\n",
      "torch.Size([8, 3, 240, 240])\n",
      "torch.Size([8, 3, 240, 240])\n",
      "torch.Size([8, 3, 240, 240])\n",
      "torch.Size([8, 3, 240, 240])\n",
      "torch.Size([8, 3, 240, 240])\n",
      "torch.Size([8, 3, 240, 240])\n",
      "torch.Size([8, 3, 240, 240])\n",
      "torch.Size([8, 3, 240, 240])\n",
      "torch.Size([8, 3, 240, 240])\n",
      "torch.Size([8, 3, 240, 240])\n",
      "torch.Size([8, 3, 240, 240])\n",
      "torch.Size([8, 3, 240, 240])\n",
      "torch.Size([8, 3, 240, 240])\n",
      "torch.Size([8, 3, 240, 240])\n",
      "torch.Size([8, 3, 240, 240])\n",
      "torch.Size([8, 3, 240, 240])\n",
      "torch.Size([8, 3, 240, 240])\n",
      "torch.Size([8, 3, 240, 240])\n",
      "torch.Size([8, 3, 240, 240])\n",
      "torch.Size([8, 3, 240, 240])\n",
      "torch.Size([8, 3, 240, 240])\n",
      "torch.Size([8, 3, 240, 240])\n",
      "torch.Size([8, 3, 240, 240])\n",
      "torch.Size([8, 3, 240, 240])\n",
      "torch.Size([8, 3, 240, 240])\n",
      "torch.Size([8, 3, 240, 240])\n",
      "torch.Size([8, 3, 240, 240])\n",
      "torch.Size([8, 3, 240, 240])\n",
      "torch.Size([8, 3, 240, 240])\n",
      "torch.Size([8, 3, 240, 240])\n",
      "torch.Size([8, 3, 240, 240])\n",
      "torch.Size([8, 3, 240, 240])\n",
      "torch.Size([8, 3, 240, 240])\n",
      "torch.Size([8, 3, 240, 240])\n",
      "torch.Size([8, 3, 240, 240])\n",
      "torch.Size([8, 3, 240, 240])\n",
      "torch.Size([8, 3, 240, 240])\n",
      "torch.Size([8, 3, 240, 240])\n",
      "torch.Size([8, 3, 240, 240])\n",
      "torch.Size([8, 3, 240, 240])\n",
      "torch.Size([8, 3, 240, 240])\n",
      "torch.Size([8, 3, 240, 240])\n",
      "torch.Size([8, 3, 240, 240])\n",
      "torch.Size([8, 3, 240, 240])\n",
      "torch.Size([8, 3, 240, 240])\n",
      "torch.Size([8, 3, 240, 240])\n",
      "torch.Size([8, 3, 240, 240])\n",
      "torch.Size([8, 3, 240, 240])\n",
      "torch.Size([8, 3, 240, 240])\n",
      "torch.Size([8, 3, 240, 240])\n",
      "torch.Size([8, 3, 240, 240])\n",
      "torch.Size([8, 3, 240, 240])\n",
      "torch.Size([8, 3, 240, 240])\n",
      "torch.Size([8, 3, 240, 240])\n",
      "torch.Size([8, 3, 240, 240])\n",
      "torch.Size([8, 3, 240, 240])\n",
      "torch.Size([8, 3, 240, 240])\n",
      "torch.Size([8, 3, 240, 240])\n",
      "torch.Size([2, 3, 240, 240])\n"
     ]
    }
   ],
   "source": [
    "for i, j in train_loader:\n",
    "    print(i.shape)"
   ]
  },
  {
   "cell_type": "code",
   "execution_count": 27,
   "metadata": {},
   "outputs": [
    {
     "name": "stdout",
     "output_type": "stream",
     "text": [
      "There are 60 batches in train_loader\n",
      "There are 10 batches in test_loader\n"
     ]
    }
   ],
   "source": [
    "count = 0\n",
    "for xb, yb in train_loader:\n",
    "  #Your code here\n",
    "  count += 1\n",
    "print(f'There are {count} batches in train_loader')\n",
    "\n",
    "count = 0\n",
    "for xb, yb in test_loader:\n",
    "  #Your code here\n",
    "  count += 1\n",
    "print(f'There are {count} batches in test_loader')"
   ]
  },
  {
   "cell_type": "code",
   "execution_count": 37,
   "metadata": {},
   "outputs": [],
   "source": [
    "class CNN(nn.Module):\n",
    "    def __init__(self):\n",
    "        super(CNN, self).__init__()\n",
    "        \n",
    "        self.conv1 = nn.Conv2d(3, 16, kernel_size=3, stride=1, padding=1)\n",
    "        self.relu1 = nn.ReLU()\n",
    "        self.pool1 = nn.MaxPool2d(kernel_size=2, stride=2)\n",
    "        \n",
    "        self.conv2 = nn.Conv2d(16, 32, kernel_size=3, stride=1, padding=1)\n",
    "        self.relu2 = nn.ReLU()\n",
    "        self.pool2 = nn.MaxPool2d(kernel_size=2, stride=2)\n",
    "        \n",
    "        self.fc1 = nn.Linear(32 * 60 * 60, 128)\n",
    "        self.relu3 = nn.ReLU()\n",
    "        self.fc2 = nn.Linear(128, 2)\n",
    "        \n",
    "    def forward(self, x):\n",
    "        x = self.conv1(x)\n",
    "        x = self.relu1(x)\n",
    "        x = self.pool1(x)\n",
    "        \n",
    "        x = self.conv2(x)\n",
    "        x = self.relu2(x)\n",
    "        x = self.pool2(x)\n",
    "        \n",
    "        x = x.view(x.size(0), -1)\n",
    "        \n",
    "        x = self.fc1(x)\n",
    "        x = self.relu3(x)\n",
    "        x = self.fc2(x)\n",
    "        \n",
    "        return x"
   ]
  },
  {
   "cell_type": "code",
   "execution_count": 38,
   "metadata": {},
   "outputs": [
    {
     "name": "stdout",
     "output_type": "stream",
     "text": [
      "Epoch:0/5 Batch:1 Loss:0.7116315364837646\n",
      "Epoch:1/5 Batch:1 Loss:0.6003913879394531\n",
      "Epoch:2/5 Batch:1 Loss:0.3083523213863373\n",
      "Epoch:3/5 Batch:1 Loss:0.09597089886665344\n",
      "Epoch:4/5 Batch:1 Loss:0.04179545119404793\n"
     ]
    }
   ],
   "source": [
    "model=CNN()\n",
    "#model=CNN_seq()\n",
    "\n",
    "\n",
    "#Set loss and optimiser \n",
    "loss_fn = nn.CrossEntropyLoss()\n",
    "\n",
    "optimiser = optim.Adam(model.parameters())\n",
    "\n",
    "epoch_losses = []\n",
    "\n",
    "model.train()\n",
    "epochSize=10\n",
    "for epoch in range(epochSize):\n",
    "    epoch_loss = 0.0\n",
    "    for batch_id, (input,target) in enumerate(train_loader):\n",
    "\n",
    "        optimiser.zero_grad() \n",
    "        output = model(input) #forward \n",
    "\n",
    "        loss = loss_fn(output,target)\n",
    "        \n",
    "        \n",
    "        loss.backward() #back prop\n",
    "        optimiser.step()#update weights\n",
    "\n",
    "        epoch_loss += loss.item()\n",
    "\n",
    "        if batch_id%100==0:\n",
    "            print(f'Epoch:{epoch}/{epochSize} Batch:{batch_id+1} Loss:{loss.item()}')\n",
    "\n",
    "    epoch_loss /= len(train_loader)\n",
    "    epoch_losses.append(epoch_loss)\n"
   ]
  },
  {
   "cell_type": "code",
   "execution_count": 39,
   "metadata": {},
   "outputs": [
    {
     "ename": "NameError",
     "evalue": "name 'epoch_losses' is not defined",
     "output_type": "error",
     "traceback": [
      "\u001b[0;31m---------------------------------------------------------------------------\u001b[0m",
      "\u001b[0;31mNameError\u001b[0m                                 Traceback (most recent call last)",
      "Cell \u001b[0;32mIn[39], line 4\u001b[0m\n\u001b[1;32m      1\u001b[0m \u001b[39mimport\u001b[39;00m \u001b[39mmatplotlib\u001b[39;00m\u001b[39m.\u001b[39;00m\u001b[39mpyplot\u001b[39;00m \u001b[39mas\u001b[39;00m \u001b[39mplt\u001b[39;00m\n\u001b[1;32m      3\u001b[0m \u001b[39m# Plot the loss-epoch graph\u001b[39;00m\n\u001b[0;32m----> 4\u001b[0m plt\u001b[39m.\u001b[39mplot(\u001b[39mrange\u001b[39m(\u001b[39m1\u001b[39m, epochSize\u001b[39m+\u001b[39m\u001b[39m1\u001b[39m), epoch_losses, \u001b[39m'\u001b[39m\u001b[39mb-o\u001b[39m\u001b[39m'\u001b[39m)\n\u001b[1;32m      5\u001b[0m plt\u001b[39m.\u001b[39mxlabel(\u001b[39m'\u001b[39m\u001b[39mEpoch\u001b[39m\u001b[39m'\u001b[39m)\n\u001b[1;32m      6\u001b[0m plt\u001b[39m.\u001b[39mylabel(\u001b[39m'\u001b[39m\u001b[39mLoss\u001b[39m\u001b[39m'\u001b[39m)\n",
      "\u001b[0;31mNameError\u001b[0m: name 'epoch_losses' is not defined"
     ]
    }
   ],
   "source": [
    "import matplotlib.pyplot as plt\n",
    "\n",
    "# Plot the loss-epoch graph\n",
    "plt.plot(range(1, epochSize+1), epoch_losses, 'b-o')\n",
    "plt.xlabel('Epoch')\n",
    "plt.ylabel('Loss')\n",
    "plt.title('Loss per Epoch')\n",
    "plt.show()"
   ]
  }
 ],
 "metadata": {
  "kernelspec": {
   "display_name": "auth_shoe",
   "language": "python",
   "name": "python3"
  },
  "language_info": {
   "codemirror_mode": {
    "name": "ipython",
    "version": 3
   },
   "file_extension": ".py",
   "mimetype": "text/x-python",
   "name": "python",
   "nbconvert_exporter": "python",
   "pygments_lexer": "ipython3",
   "version": "3.9.6"
  },
  "orig_nbformat": 4
 },
 "nbformat": 4,
 "nbformat_minor": 2
}
