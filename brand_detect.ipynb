{
 "cells": [
  {
   "attachments": {},
   "cell_type": "markdown",
   "metadata": {},
   "source": [
    "# **Brand Detection**"
   ]
  },
  {
   "attachments": {},
   "cell_type": "markdown",
   "metadata": {},
   "source": [
    "# Data Augmentation"
   ]
  },
  {
   "cell_type": "code",
   "execution_count": 69,
   "metadata": {},
   "outputs": [],
   "source": [
    "import torch\n",
    "from torchvision import datasets, transforms\n",
    "from torch import nn\n",
    "import torch.optim as optim\n",
    "import torch.nn.functional as F\n",
    "\n",
    "# Define the transformation to apply to the images\n",
    "transform = transforms.Compose([\n",
    "    transforms.Resize((224, 224)),\n",
    "    transforms.ToTensor(),\n",
    "    transforms.Normalize((0.5,), (0.5,))\n",
    "])\n",
    "\n",
    "# Load the dataset\n",
    "train_dataset = datasets.ImageFolder(root='./dataset/brands/train/', transform=transform)\n",
    "test_dataset = datasets.ImageFolder(root='./dataset/brands/test/', transform=transform)\n",
    "\n",
    "# Create data loaders to facilitate batch processing\n",
    "train_loader = torch.utils.data.DataLoader(train_dataset, batch_size=8, shuffle=True)\n",
    "test_loader = torch.utils.data.DataLoader(test_dataset, batch_size=8, shuffle=False)\n"
   ]
  },
  {
   "cell_type": "code",
   "execution_count": 79,
   "metadata": {},
   "outputs": [
    {
     "name": "stdout",
     "output_type": "stream",
     "text": [
      "torch.Size([8, 3, 224, 224])\n"
     ]
    }
   ],
   "source": [
    "for i, j in train_loader:\n",
    "    size = i.shape\n",
    "    break\n",
    "\n",
    "print(size)"
   ]
  },
  {
   "cell_type": "code",
   "execution_count": 71,
   "metadata": {},
   "outputs": [
    {
     "name": "stdout",
     "output_type": "stream",
     "text": [
      "There are 117 batches in train_loader\n",
      "There are 17 batches in test_loader\n"
     ]
    }
   ],
   "source": [
    "count = 0\n",
    "for xb, yb in train_loader:\n",
    "  #Your code here\n",
    "  count += 1\n",
    "print(f'There are {count} batches in train_loader')\n",
    "\n",
    "count = 0\n",
    "for xb, yb in test_loader:\n",
    "  #Your code here\n",
    "  count += 1\n",
    "print(f'There are {count} batches in test_loader')"
   ]
  },
  {
   "cell_type": "code",
   "execution_count": 84,
   "metadata": {},
   "outputs": [],
   "source": [
    "class CNN(nn.Module):\n",
    "    def __init__(self):\n",
    "        super(CNN, self).__init__()\n",
    "        \n",
    "        self.conv1 = nn.Conv2d(3, 8, kernel_size=3, stride=1, padding=1)\n",
    "        self.relu1 = nn.ReLU()\n",
    "        self.pool1 = nn.MaxPool2d(kernel_size=2, stride=2)\n",
    "        \n",
    "        self.conv2 = nn.Conv2d(8, 32, kernel_size=3, stride=1, padding=1)\n",
    "        self.relu2 = nn.ReLU()\n",
    "        self.pool2 = nn.MaxPool2d(kernel_size=2, stride=2)\n",
    "        \n",
    "        self.fc1 = nn.Linear(32 * 56 * 56, 128)\n",
    "        self.relu3 = nn.ReLU()\n",
    "        self.fc2 = nn.Linear(128, 2)\n",
    "        \n",
    "    def forward(self, x):\n",
    "        x = self.conv1(x)\n",
    "        x = self.relu1(x)\n",
    "        x = self.pool1(x)\n",
    "        \n",
    "        x = self.conv2(x)\n",
    "        x = self.relu2(x)\n",
    "        x = self.pool2(x)\n",
    "        \n",
    "        x = x.view(x.size(0), -1)\n",
    "        \n",
    "        x = self.fc1(x)\n",
    "        x = self.relu3(x)\n",
    "        x = self.fc2(x)\n",
    "        \n",
    "        return x"
   ]
  },
  {
   "cell_type": "code",
   "execution_count": 85,
   "metadata": {},
   "outputs": [
    {
     "name": "stdout",
     "output_type": "stream",
     "text": [
      "Epoch:0/10 Batch:1 Loss:0.6889914274215698\n"
     ]
    },
    {
     "name": "stderr",
     "output_type": "stream",
     "text": [
      "/Users/waizwafiq/Documents/Projects/fakeshoe_detection/auth_shoe/lib/python3.9/site-packages/PIL/Image.py:992: UserWarning: Palette images with Transparency expressed in bytes should be converted to RGBA images\n",
      "  warnings.warn(\n"
     ]
    },
    {
     "name": "stdout",
     "output_type": "stream",
     "text": [
      "Epoch:0/10 Batch:101 Loss:0.7197214961051941\n",
      "Epoch:1/10 Batch:1 Loss:0.6420183181762695\n",
      "Epoch:1/10 Batch:101 Loss:0.5620333552360535\n",
      "Epoch:2/10 Batch:1 Loss:0.484430193901062\n",
      "Epoch:2/10 Batch:101 Loss:0.5758478045463562\n",
      "Epoch:3/10 Batch:1 Loss:0.3450378179550171\n",
      "Epoch:3/10 Batch:101 Loss:0.2935866713523865\n",
      "Epoch:4/10 Batch:1 Loss:0.09338415414094925\n",
      "Epoch:4/10 Batch:101 Loss:0.05317631736397743\n",
      "Epoch:5/10 Batch:1 Loss:0.03972829133272171\n",
      "Epoch:5/10 Batch:101 Loss:0.008313202299177647\n",
      "Epoch:6/10 Batch:1 Loss:0.004892686381936073\n"
     ]
    }
   ],
   "source": [
    "model=CNN()\n",
    "#model=CNN_seq()\n",
    "\n",
    "\n",
    "#Set loss and optimiser \n",
    "loss_fn = nn.CrossEntropyLoss()\n",
    "\n",
    "optimiser = optim.Adam(model.parameters())\n",
    "\n",
    "epoch_losses = []\n",
    "\n",
    "model.train()\n",
    "epochSize=10\n",
    "for epoch in range(epochSize):\n",
    "    epoch_loss = 0.0\n",
    "    for batch_id, (input,target) in enumerate(train_loader):\n",
    "\n",
    "        optimiser.zero_grad() \n",
    "        output = model(input) #forward \n",
    "\n",
    "        loss = loss_fn(output,target)\n",
    "        \n",
    "        \n",
    "        loss.backward() #back prop\n",
    "        optimiser.step()#update weights\n",
    "\n",
    "        epoch_loss += loss.item()\n",
    "\n",
    "        if batch_id%100==0:\n",
    "            print(f'Epoch:{epoch}/{epochSize} Batch:{batch_id+1} Loss:{loss.item()}')\n",
    "\n",
    "    epoch_loss /= len(train_loader)\n",
    "    epoch_losses.append(epoch_loss)\n"
   ]
  },
  {
   "cell_type": "code",
   "execution_count": 50,
   "metadata": {},
   "outputs": [
    {
     "data": {
      "image/png": "[encoded data removed]",
      "text/plain": [
       "<Figure size 640x480 with 1 Axes>"
      ]
     },
     "metadata": {},
     "output_type": "display_data"
    }
   ],
   "source": [
    "import matplotlib.pyplot as plt\n",
    "\n",
    "# Plot the loss-epoch graph\n",
    "plt.plot(range(1, epochSize+1), epoch_losses, 'b-o')\n",
    "plt.xlabel('Epoch')\n",
    "plt.ylabel('Loss')\n",
    "plt.title('Loss per Epoch')\n",
    "plt.show()"
   ]
  }
 ],
 "metadata": {
  "kernelspec": {
   "display_name": "auth_shoe",
   "language": "python",
   "name": "python3"
  },
  "language_info": {
   "codemirror_mode": {
    "name": "ipython",
    "version": 3
   },
   "file_extension": ".py",
   "mimetype": "text/x-python",
   "name": "python",
   "nbconvert_exporter": "python",
   "pygments_lexer": "ipython3",
   "version": "3.9.6"
  },
  "orig_nbformat": 4
 },
 "nbformat": 4,
 "nbformat_minor": 2
}
